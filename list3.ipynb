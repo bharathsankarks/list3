{
 "cells": [
  {
   "cell_type": "code",
   "execution_count": 1,
   "id": "73d7fa57-5851-486a-a50f-3ad69f677ec0",
   "metadata": {},
   "outputs": [
    {
     "name": "stdin",
     "output_type": "stream",
     "text": [
      "enter a mark: 44\n"
     ]
    },
    {
     "name": "stdout",
     "output_type": "stream",
     "text": [
      "fail\n"
     ]
    }
   ],
   "source": [
    "x=int(input(\"enter a mark:\"))\n",
    "if x>50:\n",
    "    print(\"pass\")\n",
    "if x<50:\n",
    "    print(\"fail\")"
   ]
  },
  {
   "cell_type": "code",
   "execution_count": 4,
   "id": "9a43b4a0-1998-456f-904c-a8bf0e8678a8",
   "metadata": {},
   "outputs": [
    {
     "name": "stdin",
     "output_type": "stream",
     "text": [
      "enter a name: yadhu\n"
     ]
    }
   ],
   "source": [
    "x=[\"anu\",\"pranav\",\"kannan\"]\n",
    "y=input(\"enter a name:\")\n",
    "x.append(y)"
   ]
  },
  {
   "cell_type": "code",
   "execution_count": null,
   "id": "e1f925fc-1e93-4dc3-845b-bd0843157235",
   "metadata": {},
   "outputs": [],
   "source": []
  }
 ],
 "metadata": {
  "kernelspec": {
   "display_name": "Python 3 (ipykernel)",
   "language": "python",
   "name": "python3"
  },
  "language_info": {
   "codemirror_mode": {
    "name": "ipython",
    "version": 3
   },
   "file_extension": ".py",
   "mimetype": "text/x-python",
   "name": "python",
   "nbconvert_exporter": "python",
   "pygments_lexer": "ipython3",
   "version": "3.9.12"
  }
 },
 "nbformat": 4,
 "nbformat_minor": 5
}
